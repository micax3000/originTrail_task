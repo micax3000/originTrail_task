{
 "cells": [
  {
   "cell_type": "markdown",
   "id": "9ec06285",
   "metadata": {},
   "source": [
    "<h2>TASK</h2>\n",
    "\n",
    "\n",
    "Ethereum transactions crawler task\n",
    "\n",
    "Create an application that will allow a user to view transaction data from the Ethereum blockchain associated with a specific wallet address W that the user inputs, starting with block B. The application should get information on:\n",
    "    <ul>\n",
    "        <li>wallets (addresses) and amounts of ETH associated with transactions             made to and from the given wallet W </li>\n",
    "        <li>show them in a simple human-readable way (ideally, through a web page)         </li>\n",
    "    </ul>\n",
    "The application should collect and display ALL transaction data starting from the given block B. \n",
    "\n",
    "<h4>Example:</h4> \n",
    "\n",
    "If a user requests to view transactions associated with the address **0xaa7a9ca87d3694b5755f213b5d04094b8d0f0a6f** from block **9000000** to the current block, your application should be able to crawl and visualize all transaction data (addresses that have sent and received tokens from the address 0xaa7a9ca87d3694b5755f213b5d04094b8d0f0a6f, and how much ETH was used for a given transaction) in that period of time.\n",
    "\n",
    "<h3>For bonus points:</h3>\n",
    "    <ul>\n",
    "    <li>Given a date in YYYY-MM-DD format, the program should return the exact value of ETH that was available on the given address at YYYY-MM-DD 00:00 UTC time.\n",
    "    </li>\n",
    "    <li>Do the same task above to include tokens amounts (other than ETH) </li>\n",
    "    </ul>\n",
    "    \n",
    "<h3>Instructions </h3>\n",
    "    <ul>\n",
    "    <li>Use any technology you would like/are familiar with (language, database)</li>\n",
    "    <li>Please include instructions on how to run the project together with the code (so our team members can run it in one of our environments)</li>\n",
    "    <li>A list of officially available ethereum clients can be found here: http://ethdocs.org/en/latest/connecting-to-clients/. Other implementations can be found on the web. Additionally, you can utilize an API from a service such as https://etherscan.io/apis or register an account on infura.io service to access data from the blockchain directly.</li>\n",
    "    </ul>\n",
    "See https://etherscan.io/ for an example of how data can be visualized.\n",
    "\n",
    "Please, put your resolution to the private github repository and share it with marijakrivosic, branarakic & kotlarmilos."
   ]
  },
  {
   "cell_type": "code",
   "execution_count": 1,
   "id": "fb265848",
   "metadata": {},
   "outputs": [],
   "source": [
    "import requests\n",
    "import pandas as pd\n",
    "import numpy as np\n",
    "import seaborn as sb\n",
    "import json\n",
    "from datetime import datetime\n",
    "from matplotlib import pyplot as plt\n",
    "from IPython.display import display, HTML"
   ]
  },
  {
   "cell_type": "code",
   "execution_count": 2,
   "id": "fb5bf50a",
   "metadata": {},
   "outputs": [],
   "source": [
    "#ADDRESS = '0xaa7a9ca87d3694b5755f213b5d04094b8d0f0a6f'\n",
    "API_KEY = \"29KKAKAHK7B9BY6SMHV41WKQTJ23D1V14D\"\n",
    "URL = \"https://api.etherscan.io/api\"\n",
    "PARAMS_ETH = {'module': 'account',\n",
    "          'address': ' ',\n",
    "          'action': 'txlist',\n",
    "          'apikey': API_KEY}\n"
   ]
  },
  {
   "cell_type": "code",
   "execution_count": 3,
   "id": "cf43d4dd",
   "metadata": {},
   "outputs": [],
   "source": [
    "current_block = requests.get(url = 'https://api.blockcypher.com/v1/eth/main')\n",
    "current_block = current_block.json()['height']"
   ]
  },
  {
   "cell_type": "code",
   "execution_count": 4,
   "id": "ed4ca385",
   "metadata": {
    "scrolled": false
   },
   "outputs": [
    {
     "name": "stdout",
     "output_type": "stream",
     "text": [
      "Please enter a starting block:0\n",
      "Please enter a valid address:0xaa7a9ca87d3694b5755f213b5d04094\n",
      "0\n",
      "Please enter a valid address:aaaaaaaaaaaa\n",
      "0\n",
      "Please enter a valid address:0xaa7a9ca87d3694b5755f213b5d04094b8d0f0a6f\n",
      "1\n"
     ]
    }
   ],
   "source": [
    "starting_block = -1\n",
    "while starting_block not in range(0, current_block+1):\n",
    "    starting_block = int(input(\"Please enter a starting block:\"))\n",
    "PARAMS_ETH['startingblock'] = starting_block\n",
    "\n",
    "response_status = requests.get(url=URL, params= PARAMS_ETH).json()['status']\n",
    "while (int(response_status) != 1):\n",
    "    address = input(\"Please enter a valid address:\")\n",
    "    PARAMS_ETH['address'] = address\n",
    "    response_status = requests.get(url=URL, params= PARAMS_ETH).json()['status']"
   ]
  },
  {
   "cell_type": "code",
   "execution_count": 5,
   "id": "f5529537",
   "metadata": {},
   "outputs": [],
   "source": [
    "PARAMS_ETH_INTERNAL = PARAMS_ETH.copy()\n",
    "PARAMS_ETH_INTERNAL['action'] = 'txlistinternal'"
   ]
  },
  {
   "cell_type": "code",
   "execution_count": 6,
   "id": "bd651a16",
   "metadata": {},
   "outputs": [],
   "source": [
    "r  = requests.get(url=URL, params= PARAMS_ETH)\n",
    "r1 = requests.get(url=URL, params= PARAMS_ETH_INTERNAL)\n",
    "\n",
    "try:\n",
    "    df_eth= pd.DataFrame(r.json()['result'])\n",
    "    df_eth_internal = pd.DataFrame(r1.json()['result'])\n",
    "except:\n",
    "    print(r.json()['result'])"
   ]
  },
  {
   "cell_type": "code",
   "execution_count": 7,
   "id": "cfa3cd4f",
   "metadata": {},
   "outputs": [
    {
     "name": "stdout",
     "output_type": "stream",
     "text": [
      "5004018\n"
     ]
    }
   ],
   "source": [
    "print(int(df_eth.iloc[-1]['blockNumber']))"
   ]
  },
  {
   "cell_type": "code",
   "execution_count": 8,
   "id": "026ad375",
   "metadata": {
    "scrolled": true
   },
   "outputs": [
    {
     "name": "stdout",
     "output_type": "stream",
     "text": [
      "last block: 5004018\n",
      "last block: 5220834\n",
      "last block: 5591309\n",
      "last block: 6420615\n",
      "last block: 7340119\n",
      "last block: 9363313\n",
      "last block: 10632097\n",
      "last block: 11219547\n",
      "last block: 11680986\n",
      "last block: 11966497\n",
      "last block: 12383419\n",
      "last block: 13453906\n",
      "last block: 13545227\n",
      "last block: 13750904\n",
      "last block: 14562883\n",
      "last block: 14794988\n"
     ]
    }
   ],
   "source": [
    "#making api calls until all transaction are pulled\n",
    "last_block = int(df_eth.iloc[-1]['blockNumber'])\n",
    "new_last_block = -1\n",
    "\n",
    "while(last_block < current_block) & (last_block != new_last_block):\n",
    "    last_block = int(df_eth.iloc[-1]['blockNumber'])\n",
    "    print(f'last block: {last_block}')\n",
    "    PARAMS_ETH['startblock'] = last_block + 1\n",
    "    new_df = requests.get(url=URL, params= PARAMS_ETH)\n",
    "    new_df = pd.DataFrame(new_df.json()['result'])\n",
    "    if(new_df.empty):\n",
    "        break\n",
    "    new_last_block = int(new_df.iloc[-1]['blockNumber'])\n",
    "    df_eth = pd.concat([df_eth, new_df])"
   ]
  },
  {
   "cell_type": "code",
   "execution_count": 9,
   "id": "55aa1525",
   "metadata": {},
   "outputs": [],
   "source": [
    "if(not(df_eth_internal.empty)):\n",
    "    last_block = int(df_eth_internal.iloc[-1]['blockNumber'])\n",
    "new_last_block = -1\n",
    "\n",
    "while(last_block < current_block) & (last_block != new_last_block) & (not(df_eth_internal.empty)):\n",
    "    last_block = int(df_eth_internal.iloc[-1]['blockNumber'])\n",
    "    print(f'last block: {last_block}')\n",
    "    PARAMS_ETH_INTERNAL['startblock'] = last_block + 1\n",
    "    new_df = requests.get(url=URL, params= PARAMS_ETH_INTERNAL)\n",
    "    new_df = pd.DataFrame(new_df.json()['result'])\n",
    "    if(new_df.empty):\n",
    "        break\n",
    "    new_last_block = int(new_df.iloc[-1]['blockNumber'])\n",
    "    df_eth_internal = pd.concat([df_eth_internal, new_df])"
   ]
  },
  {
   "cell_type": "code",
   "execution_count": 10,
   "id": "39b0e313",
   "metadata": {},
   "outputs": [],
   "source": [
    "df_eth = pd.concat([df_eth, df_eth_internal])"
   ]
  },
  {
   "cell_type": "code",
   "execution_count": 11,
   "id": "0c960bf5",
   "metadata": {
    "scrolled": true
   },
   "outputs": [
    {
     "name": "stdout",
     "output_type": "stream",
     "text": [
      "number of eth transactions: 152833\n"
     ]
    }
   ],
   "source": [
    "print(f'number of eth transactions: {df_eth.shape[0]}')"
   ]
  },
  {
   "cell_type": "code",
   "execution_count": 12,
   "id": "74566362",
   "metadata": {
    "scrolled": false
   },
   "outputs": [
    {
     "data": {
      "text/html": [
       "<div>\n",
       "<style scoped>\n",
       "    .dataframe tbody tr th:only-of-type {\n",
       "        vertical-align: middle;\n",
       "    }\n",
       "\n",
       "    .dataframe tbody tr th {\n",
       "        vertical-align: top;\n",
       "    }\n",
       "\n",
       "    .dataframe thead th {\n",
       "        text-align: right;\n",
       "    }\n",
       "</style>\n",
       "<table border=\"1\" class=\"dataframe\">\n",
       "  <thead>\n",
       "    <tr style=\"text-align: right;\">\n",
       "      <th></th>\n",
       "      <th>blockNumber</th>\n",
       "      <th>timeStamp</th>\n",
       "      <th>hash</th>\n",
       "      <th>nonce</th>\n",
       "      <th>blockHash</th>\n",
       "      <th>transactionIndex</th>\n",
       "      <th>from</th>\n",
       "      <th>to</th>\n",
       "      <th>value</th>\n",
       "      <th>gas</th>\n",
       "      <th>gasPrice</th>\n",
       "      <th>isError</th>\n",
       "      <th>txreceipt_status</th>\n",
       "      <th>input</th>\n",
       "      <th>contractAddress</th>\n",
       "      <th>cumulativeGasUsed</th>\n",
       "      <th>gasUsed</th>\n",
       "      <th>confirmations</th>\n",
       "      <th>gasCost</th>\n",
       "    </tr>\n",
       "  </thead>\n",
       "  <tbody>\n",
       "    <tr>\n",
       "      <th>0</th>\n",
       "      <td>4961540</td>\n",
       "      <td>1516760378</td>\n",
       "      <td>0xfc3ca47c82e84519592a955fe0c89ea319ad3611bf62...</td>\n",
       "      <td>445</td>\n",
       "      <td>0xc63eb5aa0aba3ef06850a1fd864c3526446b5bd361b5...</td>\n",
       "      <td>2</td>\n",
       "      <td>0xe80d171dbe7898ef93d0b2be621d2978921c471a</td>\n",
       "      <td></td>\n",
       "      <td>0.0</td>\n",
       "      <td>3950000</td>\n",
       "      <td>6.000000e-08</td>\n",
       "      <td>0</td>\n",
       "      <td>1</td>\n",
       "      <td>0x60606040526000600360146101000a81548160ff0219...</td>\n",
       "      <td>0xaa7a9ca87d3694b5755f213b5d04094b8d0f0a6f</td>\n",
       "      <td>3818286</td>\n",
       "      <td>3645181</td>\n",
       "      <td>9833457</td>\n",
       "      <td>0.218711</td>\n",
       "    </tr>\n",
       "    <tr>\n",
       "      <th>1</th>\n",
       "      <td>4961546</td>\n",
       "      <td>1516760423</td>\n",
       "      <td>0x05728253d148fc2c1c89e316c091785603613c484559...</td>\n",
       "      <td>447</td>\n",
       "      <td>0xdc2493a1c3c4a8e4201e9b96b81ce99c372b52ed5219...</td>\n",
       "      <td>11</td>\n",
       "      <td>0xe80d171dbe7898ef93d0b2be621d2978921c471a</td>\n",
       "      <td>0xaa7a9ca87d3694b5755f213b5d04094b8d0f0a6f</td>\n",
       "      <td>0.0</td>\n",
       "      <td>3950000</td>\n",
       "      <td>6.000000e-08</td>\n",
       "      <td>0</td>\n",
       "      <td>1</td>\n",
       "      <td>0x4029a3ce000000000000000000000000000000000000...</td>\n",
       "      <td></td>\n",
       "      <td>2080664</td>\n",
       "      <td>1656258</td>\n",
       "      <td>9833451</td>\n",
       "      <td>0.099375</td>\n",
       "    </tr>\n",
       "    <tr>\n",
       "      <th>2</th>\n",
       "      <td>4961549</td>\n",
       "      <td>1516760442</td>\n",
       "      <td>0xb046816d5096dd363fff1cf18906f4eafb87c40713e1...</td>\n",
       "      <td>448</td>\n",
       "      <td>0x5bab6c9526ff4a03d363fff613d74cb71a9f52c36600...</td>\n",
       "      <td>7</td>\n",
       "      <td>0xe80d171dbe7898ef93d0b2be621d2978921c471a</td>\n",
       "      <td>0xaa7a9ca87d3694b5755f213b5d04094b8d0f0a6f</td>\n",
       "      <td>0.0</td>\n",
       "      <td>3950000</td>\n",
       "      <td>6.000000e-08</td>\n",
       "      <td>0</td>\n",
       "      <td>1</td>\n",
       "      <td>0x4029a3ce000000000000000000000000000000000000...</td>\n",
       "      <td></td>\n",
       "      <td>1829954</td>\n",
       "      <td>1640298</td>\n",
       "      <td>9833448</td>\n",
       "      <td>0.098418</td>\n",
       "    </tr>\n",
       "    <tr>\n",
       "      <th>3</th>\n",
       "      <td>4961553</td>\n",
       "      <td>1516760471</td>\n",
       "      <td>0xcb73c23d0be82febaf9b2c454abe3eb46184618c9e41...</td>\n",
       "      <td>449</td>\n",
       "      <td>0xb8e971baedde506197c3e2e920dd9cb514728a9bb197...</td>\n",
       "      <td>2</td>\n",
       "      <td>0xe80d171dbe7898ef93d0b2be621d2978921c471a</td>\n",
       "      <td>0xaa7a9ca87d3694b5755f213b5d04094b8d0f0a6f</td>\n",
       "      <td>0.0</td>\n",
       "      <td>3950000</td>\n",
       "      <td>6.000000e-08</td>\n",
       "      <td>0</td>\n",
       "      <td>1</td>\n",
       "      <td>0x4029a3ce000000000000000000000000000000000000...</td>\n",
       "      <td></td>\n",
       "      <td>1813275</td>\n",
       "      <td>1640170</td>\n",
       "      <td>9833444</td>\n",
       "      <td>0.098410</td>\n",
       "    </tr>\n",
       "    <tr>\n",
       "      <th>4</th>\n",
       "      <td>4961555</td>\n",
       "      <td>1516760518</td>\n",
       "      <td>0x676c2a7c01742415150da1cefa3aecb807614f35bdb1...</td>\n",
       "      <td>450</td>\n",
       "      <td>0x07658179a23d65904538d9f647bdc699e82b08fb0e8b...</td>\n",
       "      <td>10</td>\n",
       "      <td>0xe80d171dbe7898ef93d0b2be621d2978921c471a</td>\n",
       "      <td>0xaa7a9ca87d3694b5755f213b5d04094b8d0f0a6f</td>\n",
       "      <td>0.0</td>\n",
       "      <td>3950000</td>\n",
       "      <td>6.000000e-08</td>\n",
       "      <td>0</td>\n",
       "      <td>1</td>\n",
       "      <td>0x4029a3ce000000000000000000000000000000000000...</td>\n",
       "      <td></td>\n",
       "      <td>2088895</td>\n",
       "      <td>1639914</td>\n",
       "      <td>9833442</td>\n",
       "      <td>0.098395</td>\n",
       "    </tr>\n",
       "  </tbody>\n",
       "</table>\n",
       "</div>"
      ],
      "text/plain": [
       "  blockNumber   timeStamp                                               hash  \\\n",
       "0     4961540  1516760378  0xfc3ca47c82e84519592a955fe0c89ea319ad3611bf62...   \n",
       "1     4961546  1516760423  0x05728253d148fc2c1c89e316c091785603613c484559...   \n",
       "2     4961549  1516760442  0xb046816d5096dd363fff1cf18906f4eafb87c40713e1...   \n",
       "3     4961553  1516760471  0xcb73c23d0be82febaf9b2c454abe3eb46184618c9e41...   \n",
       "4     4961555  1516760518  0x676c2a7c01742415150da1cefa3aecb807614f35bdb1...   \n",
       "\n",
       "  nonce                                          blockHash transactionIndex  \\\n",
       "0   445  0xc63eb5aa0aba3ef06850a1fd864c3526446b5bd361b5...                2   \n",
       "1   447  0xdc2493a1c3c4a8e4201e9b96b81ce99c372b52ed5219...               11   \n",
       "2   448  0x5bab6c9526ff4a03d363fff613d74cb71a9f52c36600...                7   \n",
       "3   449  0xb8e971baedde506197c3e2e920dd9cb514728a9bb197...                2   \n",
       "4   450  0x07658179a23d65904538d9f647bdc699e82b08fb0e8b...               10   \n",
       "\n",
       "                                         from  \\\n",
       "0  0xe80d171dbe7898ef93d0b2be621d2978921c471a   \n",
       "1  0xe80d171dbe7898ef93d0b2be621d2978921c471a   \n",
       "2  0xe80d171dbe7898ef93d0b2be621d2978921c471a   \n",
       "3  0xe80d171dbe7898ef93d0b2be621d2978921c471a   \n",
       "4  0xe80d171dbe7898ef93d0b2be621d2978921c471a   \n",
       "\n",
       "                                           to  value      gas      gasPrice  \\\n",
       "0                                                0.0  3950000  6.000000e-08   \n",
       "1  0xaa7a9ca87d3694b5755f213b5d04094b8d0f0a6f    0.0  3950000  6.000000e-08   \n",
       "2  0xaa7a9ca87d3694b5755f213b5d04094b8d0f0a6f    0.0  3950000  6.000000e-08   \n",
       "3  0xaa7a9ca87d3694b5755f213b5d04094b8d0f0a6f    0.0  3950000  6.000000e-08   \n",
       "4  0xaa7a9ca87d3694b5755f213b5d04094b8d0f0a6f    0.0  3950000  6.000000e-08   \n",
       "\n",
       "  isError txreceipt_status                                              input  \\\n",
       "0       0                1  0x60606040526000600360146101000a81548160ff0219...   \n",
       "1       0                1  0x4029a3ce000000000000000000000000000000000000...   \n",
       "2       0                1  0x4029a3ce000000000000000000000000000000000000...   \n",
       "3       0                1  0x4029a3ce000000000000000000000000000000000000...   \n",
       "4       0                1  0x4029a3ce000000000000000000000000000000000000...   \n",
       "\n",
       "                              contractAddress cumulativeGasUsed  gasUsed  \\\n",
       "0  0xaa7a9ca87d3694b5755f213b5d04094b8d0f0a6f           3818286  3645181   \n",
       "1                                                       2080664  1656258   \n",
       "2                                                       1829954  1640298   \n",
       "3                                                       1813275  1640170   \n",
       "4                                                       2088895  1639914   \n",
       "\n",
       "  confirmations   gasCost  \n",
       "0       9833457  0.218711  \n",
       "1       9833451  0.099375  \n",
       "2       9833448  0.098418  \n",
       "3       9833444  0.098410  \n",
       "4       9833442  0.098395  "
      ]
     },
     "execution_count": 12,
     "metadata": {},
     "output_type": "execute_result"
    }
   ],
   "source": [
    "#converting wei to eth values\n",
    "df_eth['value'] = (df_eth['value'].astype(float)) / (10**18)\n",
    "df_eth['gasPrice'] = (df_eth['gasPrice'].astype(float)) / (10**18)\n",
    "df_eth['gasCost'] = df_eth['gasPrice'].astype(float) * df_eth['gasUsed'].astype(float)\n",
    "df_eth.head()\n"
   ]
  },
  {
   "cell_type": "code",
   "execution_count": 13,
   "id": "66751940",
   "metadata": {},
   "outputs": [],
   "source": [
    "#display(HTML(df_eth.to_html()))"
   ]
  },
  {
   "cell_type": "code",
   "execution_count": 14,
   "id": "6eba9037",
   "metadata": {},
   "outputs": [],
   "source": [
    "#converting unix timestamp to YYYY-MM-DD hh:mm:ss \n",
    "df_eth['timeStamp'] = pd.to_datetime(df_eth['timeStamp'], unit='s')"
   ]
  },
  {
   "cell_type": "code",
   "execution_count": 15,
   "id": "cc1a2e61",
   "metadata": {},
   "outputs": [],
   "source": [
    "#transforming timestamp feature to 3 separate features; year, month, day\n",
    "df_eth['year'] = pd.DatetimeIndex(df_eth['timeStamp']).year\n",
    "df_eth['month'] = pd.DatetimeIndex(df_eth['timeStamp']).month\n",
    "df_eth['day'] = pd.DatetimeIndex(df_eth['timeStamp']).day"
   ]
  },
  {
   "cell_type": "code",
   "execution_count": 16,
   "id": "87c8e67b",
   "metadata": {
    "scrolled": true
   },
   "outputs": [
    {
     "data": {
      "text/plain": [
       "<Figure size 1440x720 with 0 Axes>"
      ]
     },
     "metadata": {},
     "output_type": "display_data"
    }
   ],
   "source": [
    "plt.figure(figsize = (20,10))\n",
    "#erc20_trx_by_month = df_erc20_tokens['month'].value_counts().sort_index\n",
    "eth_trx_by_month = df_eth.groupby('year').month.value_counts().unstack()\n",
    "eth_trx_by_month = eth_trx_by_month.fillna(0)"
   ]
  },
  {
   "cell_type": "code",
   "execution_count": 17,
   "id": "35b8e0ac",
   "metadata": {
    "scrolled": true
   },
   "outputs": [
    {
     "data": {
      "text/plain": [
       "Text(0.5, 249.0, 'Number of ETH transactions per year')"
      ]
     },
     "execution_count": 17,
     "metadata": {},
     "output_type": "execute_result"
    },
    {
     "data": {
      "image/png": "[encoded data removed]",
      "text/plain": [
       "<Figure size 1080x2160 with 2 Axes>"
      ]
     },
     "metadata": {
      "needs_background": "light"
     },
     "output_type": "display_data"
    }
   ],
   "source": [
    "plt.figure(figsize= (15,30))\n",
    "heatmap = sb.heatmap(eth_trx_by_month.T, annot = True, fmt=\".0f\", cmap = 'Blues')\n",
    "plt.ylabel(\"Month\", fontsize = 20)\n",
    "plt.xlabel(\"Number of ETH transactions per year\", fontsize = 20)"
   ]
  },
  {
   "cell_type": "markdown",
   "id": "1444e741",
   "metadata": {},
   "source": [
    "__--------------------------------------------------------------------------------------------------------__\n",
    "\n",
    "<h1> Bonus points task </h1>\n",
    "\n",
    "__--------------------------------------------------------------------------------------------------------__"
   ]
  },
  {
   "cell_type": "code",
   "execution_count": 18,
   "id": "a819861a",
   "metadata": {},
   "outputs": [],
   "source": [
    "current_block = requests.get(url = 'https://api.blockcypher.com/v1/eth/main')\n",
    "current_block = current_block.json()['height']\n",
    "\n",
    "PARAMS_ETH['startblock'] = 0\n",
    "PARAMS_ERC20 = PARAMS_ETH.copy()\n",
    "PARAMS_ERC20['action'] = 'tokentx'\n",
    "\n",
    "PARAMS_ETH_INTERNAL = PARAMS_ETH.copy()\n",
    "PARAMS_ETH_INTERNAL['action'] = 'txlistinternal'"
   ]
  },
  {
   "cell_type": "code",
   "execution_count": 19,
   "id": "7054ff09",
   "metadata": {},
   "outputs": [],
   "source": [
    "r  = requests.get(url=URL, params= PARAMS_ETH)\n",
    "r1 = requests.get(url=URL, params= PARAMS_ERC20)\n",
    "r3 = requests.get(url=URL, params= PARAMS_ETH_INTERNAL)\n",
    "\n",
    "try:\n",
    "    df_eth= pd.DataFrame(r.json()['result'])\n",
    "    df_erc20_tokens = pd.DataFrame(r1.json()['result'])\n",
    "    df_eth_internal = pd.DataFrame(r3.json()['result'])\n",
    "except:\n",
    "    print(r.json()['result'])"
   ]
  },
  {
   "cell_type": "code",
   "execution_count": 20,
   "id": "e58de8a6",
   "metadata": {},
   "outputs": [
    {
     "name": "stdout",
     "output_type": "stream",
     "text": [
      "Please enter a valid date:2022-05-25\n"
     ]
    }
   ],
   "source": [
    "while(True):\n",
    "    user_datetime = input(\"Please enter a valid date:\").strip()\n",
    "    try:\n",
    "        datetime.strptime(user_datetime, '%Y-%m-%d')\n",
    "        break\n",
    "    except ValueError:\n",
    "        print(\"Date format should look like this: YYYY-MM-DD\")\n",
    "user_datetime += \" 00:00\""
   ]
  },
  {
   "cell_type": "code",
   "execution_count": 21,
   "id": "0f0bb6e1",
   "metadata": {
    "scrolled": true
   },
   "outputs": [
    {
     "name": "stdout",
     "output_type": "stream",
     "text": [
      "latest datetime: 2018-01-31 06:02:29\n",
      "latest datetime: 2018-03-08 22:05:39\n",
      "latest datetime: 2018-05-10 21:02:30\n",
      "latest datetime: 2018-09-29 10:04:24\n",
      "latest datetime: 2019-03-10 07:33:48\n",
      "latest datetime: 2020-01-27 09:53:04\n",
      "latest datetime: 2020-08-10 12:17:41\n",
      "latest datetime: 2020-11-08 22:39:16\n",
      "latest datetime: 2021-01-18 18:53:49\n",
      "latest datetime: 2021-03-03 16:49:23\n",
      "latest datetime: 2021-05-06 22:21:44\n",
      "latest datetime: 2021-10-20 09:47:22\n",
      "latest datetime: 2021-11-03 17:34:14\n",
      "latest datetime: 2021-12-06 07:16:40\n",
      "latest datetime: 2022-04-11 06:49:07\n",
      "latest datetime: 2022-05-17 21:52:41\n"
     ]
    }
   ],
   "source": [
    "#making api calls until all transaction are pulled\n",
    "latest_datetime = pd.to_datetime(df_eth.iloc[-1]['timeStamp'], unit='s')\n",
    "\n",
    "while (latest_datetime < pd.Timestamp(user_datetime)):\n",
    "    latest_datetime = pd.to_datetime(df_eth.iloc[-1]['timeStamp'], unit='s')\n",
    "    print(f'latest datetime: {latest_datetime}')\n",
    "    PARAMS_ETH['startblock'] = int(df_eth.iloc[-1]['blockNumber']) + 1\n",
    "    new_df = requests.get(url=URL, params= PARAMS_ETH)\n",
    "    new_df = pd.DataFrame(new_df.json()['result'])\n",
    "    if(new_df.empty):\n",
    "        break\n",
    "    latest_datetime = pd.to_datetime(df_eth.iloc[-1]['timeStamp'], unit='s')\n",
    "    df_eth = pd.concat([df_eth, new_df])"
   ]
  },
  {
   "cell_type": "code",
   "execution_count": 22,
   "id": "f5f212c8",
   "metadata": {},
   "outputs": [],
   "source": [
    "if(not(df_eth_internal.empty)):\n",
    "    latest_datetime = pd.to_datetime(df_eth_internal.iloc[-1]['timeStamp'], unit='s')\n",
    "\n",
    "while ((latest_datetime < pd.Timestamp(user_datetime)) & (not(df_eth_internal.empty))):\n",
    "    latest_datetime = pd.to_datetime(df_eth_internal.iloc[-1]['timeStamp'], unit='s')\n",
    "    print(f'latest datetime: {latest_datetime}')\n",
    "    PARAMS_ETH_INTERNAL['startblock'] = int(df_eth_internal.iloc[-1]['blockNumber']) + 1\n",
    "    new_df = requests.get(url=URL, params= PARAMS_ETH_INTERNAL)\n",
    "    new_df = pd.DataFrame(new_df.json()['result'])\n",
    "    if(new_df.empty):\n",
    "        break\n",
    "    latest_datetime = pd.to_datetime(df_eth_internal.iloc[-1]['timeStamp'], unit='s')\n",
    "    df_eth_internal = pd.concat([df_eth_internal, new_df])"
   ]
  },
  {
   "cell_type": "code",
   "execution_count": 23,
   "id": "64cf8848",
   "metadata": {},
   "outputs": [
    {
     "name": "stdout",
     "output_type": "stream",
     "text": [
      "latest datetime: 2022-04-02 18:54:36\n"
     ]
    }
   ],
   "source": [
    "#making api calls until all transaction are pulled\n",
    "latest_datetime = pd.to_datetime(df_erc20_tokens.iloc[-1]['timeStamp'], unit='s')\n",
    "\n",
    "while (latest_datetime < pd.Timestamp(user_datetime)):\n",
    "    latest_datetime = pd.to_datetime(df_erc20_tokens.iloc[-1]['timeStamp'], unit='s')\n",
    "    print(f'latest datetime: {latest_datetime}')\n",
    "    PARAMS_ERC20['startblock'] = int(df_erc20_tokens.iloc[-1]['blockNumber']) + 1\n",
    "    new_df = requests.get(url=URL, params= PARAMS_ERC20)\n",
    "    new_df = pd.DataFrame(new_df.json()['result'])\n",
    "    if(new_df.empty):\n",
    "        break\n",
    "    latest_datetime = pd.to_datetime(df_erc20_tokens.iloc[-1]['timeStamp'], unit='s')\n",
    "    df_erc20_tokens = pd.concat([df_erc20_tokens, new_df])"
   ]
  },
  {
   "cell_type": "code",
   "execution_count": 24,
   "id": "93db9647",
   "metadata": {},
   "outputs": [],
   "source": [
    "df_eth = pd.concat([df_eth, df_eth_internal])"
   ]
  },
  {
   "cell_type": "code",
   "execution_count": 25,
   "id": "68584823",
   "metadata": {},
   "outputs": [],
   "source": [
    "#converting unix timestamp to YYYY-MM-DD hh:mm:ss \n",
    "df_eth['timeStamp'] = pd.to_datetime(df_eth['timeStamp'], unit='s')\n",
    "df_erc20_tokens['timeStamp'] = pd.to_datetime(df_erc20_tokens['timeStamp'], unit='s')"
   ]
  },
  {
   "cell_type": "code",
   "execution_count": 26,
   "id": "e05eae24",
   "metadata": {},
   "outputs": [],
   "source": [
    "df_eth = df_eth[df_eth['timeStamp'] <= user_datetime]\n",
    "df_erc20_tokens = df_erc20_tokens[df_erc20_tokens['timeStamp'] <= user_datetime]"
   ]
  },
  {
   "cell_type": "code",
   "execution_count": 27,
   "id": "4590f6b0",
   "metadata": {},
   "outputs": [
    {
     "name": "stdout",
     "output_type": "stream",
     "text": [
      "number of eth transactions: 152833\n",
      "number of ERC20 token transfer events: 86\n",
      "number of ERC20 tokens transfered: 31\n"
     ]
    }
   ],
   "source": [
    "print(f'number of eth transactions: {df_eth.shape[0]}')\n",
    "print(f'number of ERC20 token transfer events: {df_erc20_tokens.shape[0]}')\n",
    "print(f'number of ERC20 tokens transfered: {len(df_erc20_tokens[\"tokenName\"].unique())}')"
   ]
  },
  {
   "cell_type": "code",
   "execution_count": 28,
   "id": "4541dac0",
   "metadata": {
    "scrolled": false
   },
   "outputs": [
    {
     "data": {
      "text/html": [
       "<div>\n",
       "<style scoped>\n",
       "    .dataframe tbody tr th:only-of-type {\n",
       "        vertical-align: middle;\n",
       "    }\n",
       "\n",
       "    .dataframe tbody tr th {\n",
       "        vertical-align: top;\n",
       "    }\n",
       "\n",
       "    .dataframe thead th {\n",
       "        text-align: right;\n",
       "    }\n",
       "</style>\n",
       "<table border=\"1\" class=\"dataframe\">\n",
       "  <thead>\n",
       "    <tr style=\"text-align: right;\">\n",
       "      <th></th>\n",
       "      <th>blockNumber</th>\n",
       "      <th>timeStamp</th>\n",
       "      <th>hash</th>\n",
       "      <th>nonce</th>\n",
       "      <th>blockHash</th>\n",
       "      <th>transactionIndex</th>\n",
       "      <th>from</th>\n",
       "      <th>to</th>\n",
       "      <th>value</th>\n",
       "      <th>gas</th>\n",
       "      <th>gasPrice</th>\n",
       "      <th>isError</th>\n",
       "      <th>txreceipt_status</th>\n",
       "      <th>input</th>\n",
       "      <th>contractAddress</th>\n",
       "      <th>cumulativeGasUsed</th>\n",
       "      <th>gasUsed</th>\n",
       "      <th>confirmations</th>\n",
       "      <th>gasCost</th>\n",
       "    </tr>\n",
       "  </thead>\n",
       "  <tbody>\n",
       "    <tr>\n",
       "      <th>0</th>\n",
       "      <td>4961540</td>\n",
       "      <td>2018-01-24 02:19:38</td>\n",
       "      <td>0xfc3ca47c82e84519592a955fe0c89ea319ad3611bf62...</td>\n",
       "      <td>445</td>\n",
       "      <td>0xc63eb5aa0aba3ef06850a1fd864c3526446b5bd361b5...</td>\n",
       "      <td>2</td>\n",
       "      <td>0xe80d171dbe7898ef93d0b2be621d2978921c471a</td>\n",
       "      <td></td>\n",
       "      <td>0.0</td>\n",
       "      <td>3950000</td>\n",
       "      <td>6.000000e-08</td>\n",
       "      <td>0</td>\n",
       "      <td>1</td>\n",
       "      <td>0x60606040526000600360146101000a81548160ff0219...</td>\n",
       "      <td>0xaa7a9ca87d3694b5755f213b5d04094b8d0f0a6f</td>\n",
       "      <td>3818286</td>\n",
       "      <td>3645181</td>\n",
       "      <td>9833465</td>\n",
       "      <td>0.218711</td>\n",
       "    </tr>\n",
       "    <tr>\n",
       "      <th>1</th>\n",
       "      <td>4961546</td>\n",
       "      <td>2018-01-24 02:20:23</td>\n",
       "      <td>0x05728253d148fc2c1c89e316c091785603613c484559...</td>\n",
       "      <td>447</td>\n",
       "      <td>0xdc2493a1c3c4a8e4201e9b96b81ce99c372b52ed5219...</td>\n",
       "      <td>11</td>\n",
       "      <td>0xe80d171dbe7898ef93d0b2be621d2978921c471a</td>\n",
       "      <td>0xaa7a9ca87d3694b5755f213b5d04094b8d0f0a6f</td>\n",
       "      <td>0.0</td>\n",
       "      <td>3950000</td>\n",
       "      <td>6.000000e-08</td>\n",
       "      <td>0</td>\n",
       "      <td>1</td>\n",
       "      <td>0x4029a3ce000000000000000000000000000000000000...</td>\n",
       "      <td></td>\n",
       "      <td>2080664</td>\n",
       "      <td>1656258</td>\n",
       "      <td>9833459</td>\n",
       "      <td>0.099375</td>\n",
       "    </tr>\n",
       "    <tr>\n",
       "      <th>2</th>\n",
       "      <td>4961549</td>\n",
       "      <td>2018-01-24 02:20:42</td>\n",
       "      <td>0xb046816d5096dd363fff1cf18906f4eafb87c40713e1...</td>\n",
       "      <td>448</td>\n",
       "      <td>0x5bab6c9526ff4a03d363fff613d74cb71a9f52c36600...</td>\n",
       "      <td>7</td>\n",
       "      <td>0xe80d171dbe7898ef93d0b2be621d2978921c471a</td>\n",
       "      <td>0xaa7a9ca87d3694b5755f213b5d04094b8d0f0a6f</td>\n",
       "      <td>0.0</td>\n",
       "      <td>3950000</td>\n",
       "      <td>6.000000e-08</td>\n",
       "      <td>0</td>\n",
       "      <td>1</td>\n",
       "      <td>0x4029a3ce000000000000000000000000000000000000...</td>\n",
       "      <td></td>\n",
       "      <td>1829954</td>\n",
       "      <td>1640298</td>\n",
       "      <td>9833456</td>\n",
       "      <td>0.098418</td>\n",
       "    </tr>\n",
       "    <tr>\n",
       "      <th>3</th>\n",
       "      <td>4961553</td>\n",
       "      <td>2018-01-24 02:21:11</td>\n",
       "      <td>0xcb73c23d0be82febaf9b2c454abe3eb46184618c9e41...</td>\n",
       "      <td>449</td>\n",
       "      <td>0xb8e971baedde506197c3e2e920dd9cb514728a9bb197...</td>\n",
       "      <td>2</td>\n",
       "      <td>0xe80d171dbe7898ef93d0b2be621d2978921c471a</td>\n",
       "      <td>0xaa7a9ca87d3694b5755f213b5d04094b8d0f0a6f</td>\n",
       "      <td>0.0</td>\n",
       "      <td>3950000</td>\n",
       "      <td>6.000000e-08</td>\n",
       "      <td>0</td>\n",
       "      <td>1</td>\n",
       "      <td>0x4029a3ce000000000000000000000000000000000000...</td>\n",
       "      <td></td>\n",
       "      <td>1813275</td>\n",
       "      <td>1640170</td>\n",
       "      <td>9833452</td>\n",
       "      <td>0.098410</td>\n",
       "    </tr>\n",
       "    <tr>\n",
       "      <th>4</th>\n",
       "      <td>4961555</td>\n",
       "      <td>2018-01-24 02:21:58</td>\n",
       "      <td>0x676c2a7c01742415150da1cefa3aecb807614f35bdb1...</td>\n",
       "      <td>450</td>\n",
       "      <td>0x07658179a23d65904538d9f647bdc699e82b08fb0e8b...</td>\n",
       "      <td>10</td>\n",
       "      <td>0xe80d171dbe7898ef93d0b2be621d2978921c471a</td>\n",
       "      <td>0xaa7a9ca87d3694b5755f213b5d04094b8d0f0a6f</td>\n",
       "      <td>0.0</td>\n",
       "      <td>3950000</td>\n",
       "      <td>6.000000e-08</td>\n",
       "      <td>0</td>\n",
       "      <td>1</td>\n",
       "      <td>0x4029a3ce000000000000000000000000000000000000...</td>\n",
       "      <td></td>\n",
       "      <td>2088895</td>\n",
       "      <td>1639914</td>\n",
       "      <td>9833450</td>\n",
       "      <td>0.098395</td>\n",
       "    </tr>\n",
       "  </tbody>\n",
       "</table>\n",
       "</div>"
      ],
      "text/plain": [
       "  blockNumber           timeStamp  \\\n",
       "0     4961540 2018-01-24 02:19:38   \n",
       "1     4961546 2018-01-24 02:20:23   \n",
       "2     4961549 2018-01-24 02:20:42   \n",
       "3     4961553 2018-01-24 02:21:11   \n",
       "4     4961555 2018-01-24 02:21:58   \n",
       "\n",
       "                                                hash nonce  \\\n",
       "0  0xfc3ca47c82e84519592a955fe0c89ea319ad3611bf62...   445   \n",
       "1  0x05728253d148fc2c1c89e316c091785603613c484559...   447   \n",
       "2  0xb046816d5096dd363fff1cf18906f4eafb87c40713e1...   448   \n",
       "3  0xcb73c23d0be82febaf9b2c454abe3eb46184618c9e41...   449   \n",
       "4  0x676c2a7c01742415150da1cefa3aecb807614f35bdb1...   450   \n",
       "\n",
       "                                           blockHash transactionIndex  \\\n",
       "0  0xc63eb5aa0aba3ef06850a1fd864c3526446b5bd361b5...                2   \n",
       "1  0xdc2493a1c3c4a8e4201e9b96b81ce99c372b52ed5219...               11   \n",
       "2  0x5bab6c9526ff4a03d363fff613d74cb71a9f52c36600...                7   \n",
       "3  0xb8e971baedde506197c3e2e920dd9cb514728a9bb197...                2   \n",
       "4  0x07658179a23d65904538d9f647bdc699e82b08fb0e8b...               10   \n",
       "\n",
       "                                         from  \\\n",
       "0  0xe80d171dbe7898ef93d0b2be621d2978921c471a   \n",
       "1  0xe80d171dbe7898ef93d0b2be621d2978921c471a   \n",
       "2  0xe80d171dbe7898ef93d0b2be621d2978921c471a   \n",
       "3  0xe80d171dbe7898ef93d0b2be621d2978921c471a   \n",
       "4  0xe80d171dbe7898ef93d0b2be621d2978921c471a   \n",
       "\n",
       "                                           to  value      gas      gasPrice  \\\n",
       "0                                                0.0  3950000  6.000000e-08   \n",
       "1  0xaa7a9ca87d3694b5755f213b5d04094b8d0f0a6f    0.0  3950000  6.000000e-08   \n",
       "2  0xaa7a9ca87d3694b5755f213b5d04094b8d0f0a6f    0.0  3950000  6.000000e-08   \n",
       "3  0xaa7a9ca87d3694b5755f213b5d04094b8d0f0a6f    0.0  3950000  6.000000e-08   \n",
       "4  0xaa7a9ca87d3694b5755f213b5d04094b8d0f0a6f    0.0  3950000  6.000000e-08   \n",
       "\n",
       "  isError txreceipt_status                                              input  \\\n",
       "0       0                1  0x60606040526000600360146101000a81548160ff0219...   \n",
       "1       0                1  0x4029a3ce000000000000000000000000000000000000...   \n",
       "2       0                1  0x4029a3ce000000000000000000000000000000000000...   \n",
       "3       0                1  0x4029a3ce000000000000000000000000000000000000...   \n",
       "4       0                1  0x4029a3ce000000000000000000000000000000000000...   \n",
       "\n",
       "                              contractAddress cumulativeGasUsed  gasUsed  \\\n",
       "0  0xaa7a9ca87d3694b5755f213b5d04094b8d0f0a6f           3818286  3645181   \n",
       "1                                                       2080664  1656258   \n",
       "2                                                       1829954  1640298   \n",
       "3                                                       1813275  1640170   \n",
       "4                                                       2088895  1639914   \n",
       "\n",
       "  confirmations   gasCost  \n",
       "0       9833465  0.218711  \n",
       "1       9833459  0.099375  \n",
       "2       9833456  0.098418  \n",
       "3       9833452  0.098410  \n",
       "4       9833450  0.098395  "
      ]
     },
     "execution_count": 28,
     "metadata": {},
     "output_type": "execute_result"
    }
   ],
   "source": [
    "#converting wei to eth values\n",
    "df_eth['value'] = (df_eth['value'].astype(float)) / (10**18)\n",
    "df_eth['gasPrice'] = (df_eth['gasPrice'].astype(float)) / (10**18)\n",
    "df_eth['gasCost'] = df_eth['gasPrice'].astype(float) * df_eth['gasUsed'].astype(float)\n",
    "df_eth.head()"
   ]
  },
  {
   "cell_type": "code",
   "execution_count": 29,
   "id": "9d747051",
   "metadata": {
    "scrolled": true
   },
   "outputs": [
    {
     "data": {
      "text/html": [
       "<div>\n",
       "<style scoped>\n",
       "    .dataframe tbody tr th:only-of-type {\n",
       "        vertical-align: middle;\n",
       "    }\n",
       "\n",
       "    .dataframe tbody tr th {\n",
       "        vertical-align: top;\n",
       "    }\n",
       "\n",
       "    .dataframe thead th {\n",
       "        text-align: right;\n",
       "    }\n",
       "</style>\n",
       "<table border=\"1\" class=\"dataframe\">\n",
       "  <thead>\n",
       "    <tr style=\"text-align: right;\">\n",
       "      <th></th>\n",
       "      <th>blockNumber</th>\n",
       "      <th>timeStamp</th>\n",
       "      <th>hash</th>\n",
       "      <th>nonce</th>\n",
       "      <th>blockHash</th>\n",
       "      <th>from</th>\n",
       "      <th>contractAddress</th>\n",
       "      <th>to</th>\n",
       "      <th>value</th>\n",
       "      <th>tokenName</th>\n",
       "      <th>tokenSymbol</th>\n",
       "      <th>tokenDecimal</th>\n",
       "      <th>transactionIndex</th>\n",
       "      <th>gas</th>\n",
       "      <th>gasPrice</th>\n",
       "      <th>gasUsed</th>\n",
       "      <th>cumulativeGasUsed</th>\n",
       "      <th>input</th>\n",
       "      <th>confirmations</th>\n",
       "      <th>gasCost</th>\n",
       "    </tr>\n",
       "  </thead>\n",
       "  <tbody>\n",
       "    <tr>\n",
       "      <th>0</th>\n",
       "      <td>4961623</td>\n",
       "      <td>2018-01-24 02:34:07</td>\n",
       "      <td>0x5e4058d5ce642bd393126c414b3dfa9dcb3ee8b80e8a...</td>\n",
       "      <td>471</td>\n",
       "      <td>0xd1e7a66e59aafb4c4ba055989a08735c80b247cb6c1b...</td>\n",
       "      <td>0x0000000000000000000000000000000000000000</td>\n",
       "      <td>0xaa7a9ca87d3694b5755f213b5d04094b8d0f0a6f</td>\n",
       "      <td>0xaa7a9ca87d3694b5755f213b5d04094b8d0f0a6f</td>\n",
       "      <td>7.499039e+07</td>\n",
       "      <td>Trace</td>\n",
       "      <td>TRAC</td>\n",
       "      <td>18</td>\n",
       "      <td>28</td>\n",
       "      <td>3950000</td>\n",
       "      <td>6.000000e-08</td>\n",
       "      <td>145459</td>\n",
       "      <td>1030071</td>\n",
       "      <td>deprecated</td>\n",
       "      <td>9833382</td>\n",
       "      <td>0.008728</td>\n",
       "    </tr>\n",
       "    <tr>\n",
       "      <th>1</th>\n",
       "      <td>4961623</td>\n",
       "      <td>2018-01-24 02:34:07</td>\n",
       "      <td>0x5e4058d5ce642bd393126c414b3dfa9dcb3ee8b80e8a...</td>\n",
       "      <td>471</td>\n",
       "      <td>0xd1e7a66e59aafb4c4ba055989a08735c80b247cb6c1b...</td>\n",
       "      <td>0x0000000000000000000000000000000000000000</td>\n",
       "      <td>0xaa7a9ca87d3694b5755f213b5d04094b8d0f0a6f</td>\n",
       "      <td>0xaa7a9ca87d3694b5755f213b5d04094b8d0f0a6f</td>\n",
       "      <td>3.200000e+07</td>\n",
       "      <td>Trace</td>\n",
       "      <td>TRAC</td>\n",
       "      <td>18</td>\n",
       "      <td>28</td>\n",
       "      <td>3950000</td>\n",
       "      <td>6.000000e-08</td>\n",
       "      <td>145459</td>\n",
       "      <td>1030071</td>\n",
       "      <td>deprecated</td>\n",
       "      <td>9833382</td>\n",
       "      <td>0.008728</td>\n",
       "    </tr>\n",
       "    <tr>\n",
       "      <th>2</th>\n",
       "      <td>4970221</td>\n",
       "      <td>2018-01-25 13:31:02</td>\n",
       "      <td>0x5ed076ede6b00a31e0d21bf97ce32dcbf8d9554ffbb7...</td>\n",
       "      <td>16</td>\n",
       "      <td>0x83b316b3c97c69a93f59a0a30567ee258ba41ede037f...</td>\n",
       "      <td>0x8f714c30c44fa949ad89970d3c5d34dc960efe43</td>\n",
       "      <td>0xaa7a9ca87d3694b5755f213b5d04094b8d0f0a6f</td>\n",
       "      <td>0xaa7a9ca87d3694b5755f213b5d04094b8d0f0a6f</td>\n",
       "      <td>1.500000e+03</td>\n",
       "      <td>Trace</td>\n",
       "      <td>TRAC</td>\n",
       "      <td>18</td>\n",
       "      <td>296</td>\n",
       "      <td>56352</td>\n",
       "      <td>2.100000e-08</td>\n",
       "      <td>22568</td>\n",
       "      <td>7930071</td>\n",
       "      <td>deprecated</td>\n",
       "      <td>9824784</td>\n",
       "      <td>0.000474</td>\n",
       "    </tr>\n",
       "    <tr>\n",
       "      <th>3</th>\n",
       "      <td>4970491</td>\n",
       "      <td>2018-01-25 14:33:50</td>\n",
       "      <td>0x5d1a41de495b4eecc305859b1020ccff05cd84e08bca...</td>\n",
       "      <td>37</td>\n",
       "      <td>0x2e11cfac5bb052be8df67555c79806aefd36587aad9e...</td>\n",
       "      <td>0x001a08b8b5c4e41fba84f963feee4a6d15528b3e</td>\n",
       "      <td>0x4270bb238f6dd8b1c3ca01f96ca65b2647c06d3c</td>\n",
       "      <td>0xaa7a9ca87d3694b5755f213b5d04094b8d0f0a6f</td>\n",
       "      <td>8.330000e+02</td>\n",
       "      <td>FOTA</td>\n",
       "      <td>FOTA</td>\n",
       "      <td>18</td>\n",
       "      <td>92</td>\n",
       "      <td>81112</td>\n",
       "      <td>1.100000e-08</td>\n",
       "      <td>54075</td>\n",
       "      <td>5794582</td>\n",
       "      <td>deprecated</td>\n",
       "      <td>9824514</td>\n",
       "      <td>0.000595</td>\n",
       "    </tr>\n",
       "    <tr>\n",
       "      <th>4</th>\n",
       "      <td>5013625</td>\n",
       "      <td>2018-02-01 21:36:13</td>\n",
       "      <td>0xb35daa3c137be3907a630c45e23d3c3fb6db45ae306e...</td>\n",
       "      <td>12</td>\n",
       "      <td>0x28a39fe7366fb2c707d2fe3c2bae1cd7a226939ebb32...</td>\n",
       "      <td>0xe22569871d0181874d39fe2e8d1494d106c677b4</td>\n",
       "      <td>0xaa7a9ca87d3694b5755f213b5d04094b8d0f0a6f</td>\n",
       "      <td>0xaa7a9ca87d3694b5755f213b5d04094b8d0f0a6f</td>\n",
       "      <td>5.000000e+02</td>\n",
       "      <td>Trace</td>\n",
       "      <td>TRAC</td>\n",
       "      <td>18</td>\n",
       "      <td>191</td>\n",
       "      <td>37568</td>\n",
       "      <td>4.100000e-08</td>\n",
       "      <td>37568</td>\n",
       "      <td>7828217</td>\n",
       "      <td>deprecated</td>\n",
       "      <td>9781380</td>\n",
       "      <td>0.001540</td>\n",
       "    </tr>\n",
       "  </tbody>\n",
       "</table>\n",
       "</div>"
      ],
      "text/plain": [
       "  blockNumber           timeStamp  \\\n",
       "0     4961623 2018-01-24 02:34:07   \n",
       "1     4961623 2018-01-24 02:34:07   \n",
       "2     4970221 2018-01-25 13:31:02   \n",
       "3     4970491 2018-01-25 14:33:50   \n",
       "4     5013625 2018-02-01 21:36:13   \n",
       "\n",
       "                                                hash nonce  \\\n",
       "0  0x5e4058d5ce642bd393126c414b3dfa9dcb3ee8b80e8a...   471   \n",
       "1  0x5e4058d5ce642bd393126c414b3dfa9dcb3ee8b80e8a...   471   \n",
       "2  0x5ed076ede6b00a31e0d21bf97ce32dcbf8d9554ffbb7...    16   \n",
       "3  0x5d1a41de495b4eecc305859b1020ccff05cd84e08bca...    37   \n",
       "4  0xb35daa3c137be3907a630c45e23d3c3fb6db45ae306e...    12   \n",
       "\n",
       "                                           blockHash  \\\n",
       "0  0xd1e7a66e59aafb4c4ba055989a08735c80b247cb6c1b...   \n",
       "1  0xd1e7a66e59aafb4c4ba055989a08735c80b247cb6c1b...   \n",
       "2  0x83b316b3c97c69a93f59a0a30567ee258ba41ede037f...   \n",
       "3  0x2e11cfac5bb052be8df67555c79806aefd36587aad9e...   \n",
       "4  0x28a39fe7366fb2c707d2fe3c2bae1cd7a226939ebb32...   \n",
       "\n",
       "                                         from  \\\n",
       "0  0x0000000000000000000000000000000000000000   \n",
       "1  0x0000000000000000000000000000000000000000   \n",
       "2  0x8f714c30c44fa949ad89970d3c5d34dc960efe43   \n",
       "3  0x001a08b8b5c4e41fba84f963feee4a6d15528b3e   \n",
       "4  0xe22569871d0181874d39fe2e8d1494d106c677b4   \n",
       "\n",
       "                              contractAddress  \\\n",
       "0  0xaa7a9ca87d3694b5755f213b5d04094b8d0f0a6f   \n",
       "1  0xaa7a9ca87d3694b5755f213b5d04094b8d0f0a6f   \n",
       "2  0xaa7a9ca87d3694b5755f213b5d04094b8d0f0a6f   \n",
       "3  0x4270bb238f6dd8b1c3ca01f96ca65b2647c06d3c   \n",
       "4  0xaa7a9ca87d3694b5755f213b5d04094b8d0f0a6f   \n",
       "\n",
       "                                           to         value tokenName  \\\n",
       "0  0xaa7a9ca87d3694b5755f213b5d04094b8d0f0a6f  7.499039e+07     Trace   \n",
       "1  0xaa7a9ca87d3694b5755f213b5d04094b8d0f0a6f  3.200000e+07     Trace   \n",
       "2  0xaa7a9ca87d3694b5755f213b5d04094b8d0f0a6f  1.500000e+03     Trace   \n",
       "3  0xaa7a9ca87d3694b5755f213b5d04094b8d0f0a6f  8.330000e+02      FOTA   \n",
       "4  0xaa7a9ca87d3694b5755f213b5d04094b8d0f0a6f  5.000000e+02     Trace   \n",
       "\n",
       "  tokenSymbol tokenDecimal transactionIndex      gas      gasPrice gasUsed  \\\n",
       "0        TRAC           18               28  3950000  6.000000e-08  145459   \n",
       "1        TRAC           18               28  3950000  6.000000e-08  145459   \n",
       "2        TRAC           18              296    56352  2.100000e-08   22568   \n",
       "3        FOTA           18               92    81112  1.100000e-08   54075   \n",
       "4        TRAC           18              191    37568  4.100000e-08   37568   \n",
       "\n",
       "  cumulativeGasUsed       input confirmations   gasCost  \n",
       "0           1030071  deprecated       9833382  0.008728  \n",
       "1           1030071  deprecated       9833382  0.008728  \n",
       "2           7930071  deprecated       9824784  0.000474  \n",
       "3           5794582  deprecated       9824514  0.000595  \n",
       "4           7828217  deprecated       9781380  0.001540  "
      ]
     },
     "execution_count": 29,
     "metadata": {},
     "output_type": "execute_result"
    }
   ],
   "source": [
    "#converting wei to token values\n",
    "df_erc20_tokens['value'] = (df_erc20_tokens['value'].astype(float)) / (10**df_erc20_tokens['tokenDecimal'].astype(int))\n",
    "df_erc20_tokens['gasPrice'] = (df_erc20_tokens['gasPrice'].astype(float)) / (10**df_erc20_tokens['tokenDecimal'].astype(int))\n",
    "df_erc20_tokens['gasCost'] = df_erc20_tokens['gasPrice'].astype(float) * df_erc20_tokens['gasUsed'].astype(int)\n",
    "df_erc20_tokens.head()"
   ]
  },
  {
   "cell_type": "code",
   "execution_count": 30,
   "id": "77f9cf01",
   "metadata": {},
   "outputs": [],
   "source": [
    "def historical_balance(dataframe):\n",
    "    balance = 0\n",
    "    results = dataframe[(dataframe['isError'].astype(int) == 0) & (dataframe['txreceipt_status'] != str(0))]\n",
    "    results_from = results[(results['from'] == ADDRESS.lower())]\n",
    "    results_to = results[(results['to'] == ADDRESS.lower())]\n",
    "    print(results_to['value'].sum(), results_from['value'].sum() )\n",
    "    balance = results_to['value'].sum() - results_from['value'].sum() - results_from['gasCost'].sum()\n",
    "    return balance"
   ]
  },
  {
   "cell_type": "code",
   "execution_count": 31,
   "id": "16a9cc67",
   "metadata": {},
   "outputs": [
    {
     "name": "stdout",
     "output_type": "stream",
     "text": [
      "0.0 0.0\n",
      "ETH available at 2022-05-25 00:00 -> 0.0\n"
     ]
    }
   ],
   "source": [
    "print(f'ETH available at {user_datetime} -> {historical_balance(df_eth)}')"
   ]
  },
  {
   "cell_type": "code",
   "execution_count": 32,
   "id": "5b02c887",
   "metadata": {},
   "outputs": [],
   "source": [
    "def historical_balance_erc(dataframe):\n",
    "    results = dataframe\n",
    "    results_from = results[results['from'] == ADDRESS.lower()]\n",
    "    going_out = results_from.groupby('tokenName')['value'].sum()\n",
    "    going_out_fee = results_from.groupby('tokenName')['gasCost'].sum()\n",
    "    \n",
    "    results_to = results[(results['to'] == ADDRESS.lower())]\n",
    "    going_in = results_to.groupby('tokenName')['value'].sum()\n",
    "    balance =  going_in - going_out - going_out_fee\n",
    "    going_out_final = (going_out + going_out_fee) * (-1)\n",
    "    going_in = pd.concat([going_in, going_out_final])\n",
    "    return going_in.groupby(level=0).sum()"
   ]
  },
  {
   "cell_type": "code",
   "execution_count": 33,
   "id": "c106669b",
   "metadata": {
    "scrolled": true
   },
   "outputs": [
    {
     "name": "stdout",
     "output_type": "stream",
     "text": [
      "Trace available at 2022-05-25 00:00 -> 295116.9835987687\n"
     ]
    }
   ],
   "source": [
    "tknName = 'Trace'\n",
    "print(f'{tknName} available at {user_datetime} -> {historical_balance_erc(df_erc20_tokens)[tknName]}')"
   ]
  },
  {
   "cell_type": "code",
   "execution_count": 34,
   "id": "16d6e68a",
   "metadata": {
    "scrolled": true
   },
   "outputs": [],
   "source": [
    "#transforming timestamp feature to 3 separate features; year, month, day\n",
    "df_eth['year'] = pd.DatetimeIndex(df_eth['timeStamp']).year\n",
    "df_eth['month'] = pd.DatetimeIndex(df_eth['timeStamp']).month\n",
    "df_eth['day'] = pd.DatetimeIndex(df_eth['timeStamp']).day\n",
    "\n",
    "df_erc20_tokens['year'] = pd.DatetimeIndex(df_erc20_tokens['timeStamp']).year\n",
    "df_erc20_tokens['month'] = pd.DatetimeIndex(df_erc20_tokens['timeStamp']).month\n",
    "df_erc20_tokens['day'] = pd.DatetimeIndex(df_erc20_tokens['timeStamp']).day"
   ]
  },
  {
   "cell_type": "code",
   "execution_count": 35,
   "id": "9b84b1b8",
   "metadata": {},
   "outputs": [
    {
     "name": "stderr",
     "output_type": "stream",
     "text": [
      "/home/micax/.local/lib/python3.8/site-packages/seaborn/utils.py:95: UserWarning: Glyph 26368 (\\N{CJK UNIFIED IDEOGRAPH-6700}) missing from current font.\n",
      "  fig.canvas.draw()\n",
      "/home/micax/.local/lib/python3.8/site-packages/seaborn/utils.py:95: UserWarning: Glyph 20339 (\\N{CJK UNIFIED IDEOGRAPH-4F73}) missing from current font.\n",
      "  fig.canvas.draw()\n",
      "/home/micax/.local/lib/python3.8/site-packages/seaborn/utils.py:95: UserWarning: Glyph 19968 (\\N{CJK UNIFIED IDEOGRAPH-4E00}) missing from current font.\n",
      "  fig.canvas.draw()\n",
      "/home/micax/.local/lib/python3.8/site-packages/seaborn/utils.py:95: UserWarning: Glyph 38190 (\\N{CJK UNIFIED IDEOGRAPH-952E}) missing from current font.\n",
      "  fig.canvas.draw()\n",
      "/home/micax/.local/lib/python3.8/site-packages/seaborn/utils.py:95: UserWarning: Glyph 21457 (\\N{CJK UNIFIED IDEOGRAPH-53D1}) missing from current font.\n",
      "  fig.canvas.draw()\n",
      "/home/micax/.local/lib/python3.8/site-packages/seaborn/utils.py:95: UserWarning: Glyph 24065 (\\N{CJK UNIFIED IDEOGRAPH-5E01}) missing from current font.\n",
      "  fig.canvas.draw()\n",
      "/home/micax/.local/lib/python3.8/site-packages/seaborn/utils.py:95: UserWarning: Glyph 35299 (\\N{CJK UNIFIED IDEOGRAPH-89E3}) missing from current font.\n",
      "  fig.canvas.draw()\n",
      "/home/micax/.local/lib/python3.8/site-packages/seaborn/utils.py:95: UserWarning: Glyph 20915 (\\N{CJK UNIFIED IDEOGRAPH-51B3}) missing from current font.\n",
      "  fig.canvas.draw()\n",
      "/home/micax/.local/lib/python3.8/site-packages/seaborn/utils.py:95: UserWarning: Glyph 26041 (\\N{CJK UNIFIED IDEOGRAPH-65B9}) missing from current font.\n",
      "  fig.canvas.draw()\n",
      "/home/micax/.local/lib/python3.8/site-packages/seaborn/utils.py:95: UserWarning: Glyph 26696 (\\N{CJK UNIFIED IDEOGRAPH-6848}) missing from current font.\n",
      "  fig.canvas.draw()\n",
      "/home/micax/.local/lib/python3.8/site-packages/seaborn/utils.py:95: UserWarning: Glyph 20813 (\\N{CJK UNIFIED IDEOGRAPH-514D}) missing from current font.\n",
      "  fig.canvas.draw()\n",
      "/home/micax/.local/lib/python3.8/site-packages/seaborn/utils.py:95: UserWarning: Glyph 36153 (\\N{CJK UNIFIED IDEOGRAPH-8D39}) missing from current font.\n",
      "  fig.canvas.draw()\n",
      "/home/micax/.local/lib/python3.8/site-packages/seaborn/utils.py:95: UserWarning: Glyph 31354 (\\N{CJK UNIFIED IDEOGRAPH-7A7A}) missing from current font.\n",
      "  fig.canvas.draw()\n",
      "/home/micax/.local/lib/python3.8/site-packages/seaborn/utils.py:95: UserWarning: Glyph 25237 (\\N{CJK UNIFIED IDEOGRAPH-6295}) missing from current font.\n",
      "  fig.canvas.draw()\n",
      "/home/micax/.local/lib/python3.8/site-packages/seaborn/utils.py:95: UserWarning: Glyph 38646 (\\N{CJK UNIFIED IDEOGRAPH-96F6}) missing from current font.\n",
      "  fig.canvas.draw()\n",
      "/home/micax/.local/lib/python3.8/site-packages/seaborn/utils.py:95: UserWarning: Glyph 25104 (\\N{CJK UNIFIED IDEOGRAPH-6210}) missing from current font.\n",
      "  fig.canvas.draw()\n",
      "/home/micax/.local/lib/python3.8/site-packages/seaborn/utils.py:95: UserWarning: Glyph 26412 (\\N{CJK UNIFIED IDEOGRAPH-672C}) missing from current font.\n",
      "  fig.canvas.draw()\n",
      "/home/micax/.local/lib/python3.8/site-packages/seaborn/utils.py:95: UserWarning: Glyph 22823 (\\N{CJK UNIFIED IDEOGRAPH-5927}) missing from current font.\n",
      "  fig.canvas.draw()\n",
      "/home/micax/.local/lib/python3.8/site-packages/seaborn/utils.py:95: UserWarning: Glyph 23500 (\\N{CJK UNIFIED IDEOGRAPH-5BCC}) missing from current font.\n",
      "  fig.canvas.draw()\n",
      "/home/micax/.local/lib/python3.8/site-packages/seaborn/utils.py:95: UserWarning: Glyph 32705 (\\N{CJK UNIFIED IDEOGRAPH-7FC1}) missing from current font.\n",
      "  fig.canvas.draw()\n",
      "/home/micax/.local/lib/python3.8/site-packages/seaborn/utils.py:95: UserWarning: Glyph 39640 (\\N{CJK UNIFIED IDEOGRAPH-9AD8}) missing from current font.\n",
      "  fig.canvas.draw()\n",
      "/home/micax/.local/lib/python3.8/site-packages/seaborn/utils.py:95: UserWarning: Glyph 36186 (\\N{CJK UNIFIED IDEOGRAPH-8D5A}) missing from current font.\n",
      "  fig.canvas.draw()\n"
     ]
    },
    {
     "data": {
      "text/plain": [
       "Text(0.5, 249.0, 'Number of ERC20 token transactions per year')"
      ]
     },
     "execution_count": 35,
     "metadata": {},
     "output_type": "execute_result"
    },
    {
     "name": "stderr",
     "output_type": "stream",
     "text": [
      "/home/micax/.local/lib/python3.8/site-packages/IPython/core/pylabtools.py:151: UserWarning: Glyph 26368 (\\N{CJK UNIFIED IDEOGRAPH-6700}) missing from current font.\n",
      "  fig.canvas.print_figure(bytes_io, **kw)\n",
      "/home/micax/.local/lib/python3.8/site-packages/IPython/core/pylabtools.py:151: UserWarning: Glyph 20339 (\\N{CJK UNIFIED IDEOGRAPH-4F73}) missing from current font.\n",
      "  fig.canvas.print_figure(bytes_io, **kw)\n",
      "/home/micax/.local/lib/python3.8/site-packages/IPython/core/pylabtools.py:151: UserWarning: Glyph 19968 (\\N{CJK UNIFIED IDEOGRAPH-4E00}) missing from current font.\n",
      "  fig.canvas.print_figure(bytes_io, **kw)\n",
      "/home/micax/.local/lib/python3.8/site-packages/IPython/core/pylabtools.py:151: UserWarning: Glyph 38190 (\\N{CJK UNIFIED IDEOGRAPH-952E}) missing from current font.\n",
      "  fig.canvas.print_figure(bytes_io, **kw)\n",
      "/home/micax/.local/lib/python3.8/site-packages/IPython/core/pylabtools.py:151: UserWarning: Glyph 21457 (\\N{CJK UNIFIED IDEOGRAPH-53D1}) missing from current font.\n",
      "  fig.canvas.print_figure(bytes_io, **kw)\n",
      "/home/micax/.local/lib/python3.8/site-packages/IPython/core/pylabtools.py:151: UserWarning: Glyph 24065 (\\N{CJK UNIFIED IDEOGRAPH-5E01}) missing from current font.\n",
      "  fig.canvas.print_figure(bytes_io, **kw)\n",
      "/home/micax/.local/lib/python3.8/site-packages/IPython/core/pylabtools.py:151: UserWarning: Glyph 35299 (\\N{CJK UNIFIED IDEOGRAPH-89E3}) missing from current font.\n",
      "  fig.canvas.print_figure(bytes_io, **kw)\n",
      "/home/micax/.local/lib/python3.8/site-packages/IPython/core/pylabtools.py:151: UserWarning: Glyph 20915 (\\N{CJK UNIFIED IDEOGRAPH-51B3}) missing from current font.\n",
      "  fig.canvas.print_figure(bytes_io, **kw)\n",
      "/home/micax/.local/lib/python3.8/site-packages/IPython/core/pylabtools.py:151: UserWarning: Glyph 26041 (\\N{CJK UNIFIED IDEOGRAPH-65B9}) missing from current font.\n",
      "  fig.canvas.print_figure(bytes_io, **kw)\n",
      "/home/micax/.local/lib/python3.8/site-packages/IPython/core/pylabtools.py:151: UserWarning: Glyph 26696 (\\N{CJK UNIFIED IDEOGRAPH-6848}) missing from current font.\n",
      "  fig.canvas.print_figure(bytes_io, **kw)\n",
      "/home/micax/.local/lib/python3.8/site-packages/IPython/core/pylabtools.py:151: UserWarning: Glyph 20813 (\\N{CJK UNIFIED IDEOGRAPH-514D}) missing from current font.\n",
      "  fig.canvas.print_figure(bytes_io, **kw)\n",
      "/home/micax/.local/lib/python3.8/site-packages/IPython/core/pylabtools.py:151: UserWarning: Glyph 36153 (\\N{CJK UNIFIED IDEOGRAPH-8D39}) missing from current font.\n",
      "  fig.canvas.print_figure(bytes_io, **kw)\n",
      "/home/micax/.local/lib/python3.8/site-packages/IPython/core/pylabtools.py:151: UserWarning: Glyph 31354 (\\N{CJK UNIFIED IDEOGRAPH-7A7A}) missing from current font.\n",
      "  fig.canvas.print_figure(bytes_io, **kw)\n",
      "/home/micax/.local/lib/python3.8/site-packages/IPython/core/pylabtools.py:151: UserWarning: Glyph 25237 (\\N{CJK UNIFIED IDEOGRAPH-6295}) missing from current font.\n",
      "  fig.canvas.print_figure(bytes_io, **kw)\n",
      "/home/micax/.local/lib/python3.8/site-packages/IPython/core/pylabtools.py:151: UserWarning: Glyph 38646 (\\N{CJK UNIFIED IDEOGRAPH-96F6}) missing from current font.\n",
      "  fig.canvas.print_figure(bytes_io, **kw)\n",
      "/home/micax/.local/lib/python3.8/site-packages/IPython/core/pylabtools.py:151: UserWarning: Glyph 25104 (\\N{CJK UNIFIED IDEOGRAPH-6210}) missing from current font.\n",
      "  fig.canvas.print_figure(bytes_io, **kw)\n",
      "/home/micax/.local/lib/python3.8/site-packages/IPython/core/pylabtools.py:151: UserWarning: Glyph 26412 (\\N{CJK UNIFIED IDEOGRAPH-672C}) missing from current font.\n",
      "  fig.canvas.print_figure(bytes_io, **kw)\n",
      "/home/micax/.local/lib/python3.8/site-packages/IPython/core/pylabtools.py:151: UserWarning: Glyph 22823 (\\N{CJK UNIFIED IDEOGRAPH-5927}) missing from current font.\n",
      "  fig.canvas.print_figure(bytes_io, **kw)\n",
      "/home/micax/.local/lib/python3.8/site-packages/IPython/core/pylabtools.py:151: UserWarning: Glyph 23500 (\\N{CJK UNIFIED IDEOGRAPH-5BCC}) missing from current font.\n",
      "  fig.canvas.print_figure(bytes_io, **kw)\n",
      "/home/micax/.local/lib/python3.8/site-packages/IPython/core/pylabtools.py:151: UserWarning: Glyph 32705 (\\N{CJK UNIFIED IDEOGRAPH-7FC1}) missing from current font.\n",
      "  fig.canvas.print_figure(bytes_io, **kw)\n",
      "/home/micax/.local/lib/python3.8/site-packages/IPython/core/pylabtools.py:151: UserWarning: Glyph 39640 (\\N{CJK UNIFIED IDEOGRAPH-9AD8}) missing from current font.\n",
      "  fig.canvas.print_figure(bytes_io, **kw)\n",
      "/home/micax/.local/lib/python3.8/site-packages/IPython/core/pylabtools.py:151: UserWarning: Glyph 36186 (\\N{CJK UNIFIED IDEOGRAPH-8D5A}) missing from current font.\n",
      "  fig.canvas.print_figure(bytes_io, **kw)\n"
     ]
    },
    {
     "data": {
      "image/png": "[encoded data removed]",
      "text/plain": [
       "<Figure size 1080x2160 with 2 Axes>"
      ]
     },
     "metadata": {
      "needs_background": "light"
     },
     "output_type": "display_data"
    }
   ],
   "source": [
    "erc20_trx_by_month = df_erc20_tokens.groupby('year').tokenName.value_counts().unstack()\n",
    "erc20_trx_by_month = erc20_trx_by_month.fillna(0)\n",
    "\n",
    "plt.figure(figsize= (15,30))\n",
    "heatmap = sb.heatmap(erc20_trx_by_month.T, annot = True, fmt=\".0f\", cmap = 'Blues')\n",
    "plt.ylabel(\"Token name\", fontsize = 20)\n",
    "plt.xlabel(\"Number of ERC20 token transactions per year\", fontsize = 20)\n"
   ]
  },
  {
   "cell_type": "code",
   "execution_count": 36,
   "id": "78783ebd",
   "metadata": {
    "scrolled": true
   },
   "outputs": [
    {
     "data": {
      "text/plain": [
       "Text(0.5, 249.0, 'Number of ETH transactions per year')"
      ]
     },
     "execution_count": 36,
     "metadata": {},
     "output_type": "execute_result"
    },
    {
     "data": {
      "image/png": "[encoded data removed]",
      "text/plain": [
       "<Figure size 1080x2160 with 2 Axes>"
      ]
     },
     "metadata": {
      "needs_background": "light"
     },
     "output_type": "display_data"
    }
   ],
   "source": [
    "eth_trx_by_month = df_eth.groupby('year').month.value_counts().unstack()\n",
    "eth_trx_by_month = eth_trx_by_month.fillna(0)\n",
    "\n",
    "plt.figure(figsize= (15,30))\n",
    "heatmap = sb.heatmap(eth_trx_by_month.T, annot = True, fmt=\".0f\", cmap = 'Blues', linewidth=1)\n",
    "plt.ylabel(\"Month\", fontsize = 20)\n",
    "plt.xlabel(\"Number of ETH transactions per year\", fontsize = 20)"
   ]
  }
 ],
 "metadata": {
  "kernelspec": {
   "display_name": "Python 3 (ipykernel)",
   "language": "python",
   "name": "python3"
  },
  "language_info": {
   "codemirror_mode": {
    "name": "ipython",
    "version": 3
   },
   "file_extension": ".py",
   "mimetype": "text/x-python",
   "name": "python",
   "nbconvert_exporter": "python",
   "pygments_lexer": "ipython3",
   "version": "3.8.13"
  }
 },
 "nbformat": 4,
 "nbformat_minor": 5
}
